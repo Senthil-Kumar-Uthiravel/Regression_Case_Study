{
 "cells": [
  {
   "cell_type": "markdown",
   "id": "12609a6d",
   "metadata": {},
   "source": [
    "## Standard Imports"
   ]
  },
  {
   "cell_type": "code",
   "execution_count": 1,
   "id": "3c8f7ae5",
   "metadata": {},
   "outputs": [],
   "source": [
    "%load_ext autoreload\n",
    "%autoreload 2"
   ]
  },
  {
   "cell_type": "code",
   "execution_count": 2,
   "id": "31ef590e",
   "metadata": {},
   "outputs": [],
   "source": [
    "import os\n",
    "import os.path as op\n",
    "import shutil\n",
    "\n",
    "# standard third party imports\n",
    "import numpy as np\n",
    "import pandas as pd\n",
    "import seaborn as sns\n",
    "from matplotlib import pyplot as plt\n",
    "from sklearn.pipeline import Pipeline\n",
    "from sklearn.feature_selection import SelectFromModel, SelectKBest\n",
    "from sklearn.linear_model import Lasso, Ridge\n",
    "from sklearn.model_selection import GridSearchCV\n",
    "from sklearn.preprocessing import FunctionTransformer, MinMaxScaler, OneHotEncoder\n",
    "from sklearn.compose import ColumnTransformer, make_column_transformer\n",
    "from sklearn.metrics import r2_score\n",
    "\n",
    "# impute missing values\n",
    "# from sklearn.experimental import enable_iterative_imputer\n",
    "# from sklearn.impute import KNNImputer, IterativeImputer, SimpleImputer\n",
    "from sklearn.tree import DecisionTreeRegressor\n",
    "from category_encoders import TargetEncoder\n",
    "\n",
    "\n",
    "#Some pandas extra options\n",
    "pd.options.mode.use_inf_as_na = True\n",
    "pd.set_option('display.max_columns',50)"
   ]
  },
  {
   "cell_type": "code",
   "execution_count": 4,
   "id": "ed1d786d",
   "metadata": {},
   "outputs": [],
   "source": [
    "# standard code-template imports\n",
    "from ta_lib.core.api import (\n",
    "    create_context, get_dataframe, get_feature_names_from_column_transformer,\n",
    "    get_package_path, display_as_tabs, save_pipeline, load_pipeline, initialize_environment,\n",
    "    load_dataset, save_dataset, DEFAULT_ARTIFACTS_PATH\n",
    ")\n",
    "\n",
    "import ta_lib.eda.api as eda\n",
    "from xgboost import XGBRegressor\n",
    "from ta_lib.regression.api import SKLStatsmodelOLS\n",
    "from ta_lib.regression.api import RegressionComparison, RegressionReport\n",
    "import ta_lib.reports.api as reports\n",
    "from ta_lib.data_processing.api import Outlier, FeatureSelectorStatistic, FeatureSelector\n",
    "\n",
    "\n",
    "initialize_environment(debug=False, hide_warnings=True)"
   ]
  },
  {
   "cell_type": "markdown",
   "id": "9ff066e2",
   "metadata": {},
   "source": [
    "## Initialization"
   ]
  },
  {
   "cell_type": "code",
   "execution_count": 5,
   "id": "d49b8470",
   "metadata": {},
   "outputs": [],
   "source": [
    "artifacts_folder = DEFAULT_ARTIFACTS_PATH"
   ]
  },
  {
   "cell_type": "code",
   "execution_count": 6,
   "id": "048867ff",
   "metadata": {},
   "outputs": [],
   "source": [
    "config_path = op.join('conf','config.yml')\n",
    "context = create_context(config_path)"
   ]
  },
  {
   "cell_type": "code",
   "execution_count": null,
   "id": "94bd93ed",
   "metadata": {},
   "outputs": [],
   "source": []
  },
  {
   "cell_type": "markdown",
   "id": "b47fbaac",
   "metadata": {},
   "source": [
    "# 1. Feature Engineering"
   ]
  },
  {
   "cell_type": "markdown",
   "id": "8750bef6",
   "metadata": {},
   "source": [
    "## Loading the test and train data"
   ]
  },
  {
   "cell_type": "code",
   "execution_count": 52,
   "id": "ecab219c",
   "metadata": {},
   "outputs": [
    {
     "name": "stdout",
     "output_type": "stream",
     "text": [
      "(4994411, 11) (1248603, 11)\n",
      "(4994411, 1) (1248603, 1)\n"
     ]
    }
   ],
   "source": [
    "X_train = load_dataset(context, 'train/sales/features')\n",
    "X_test = load_dataset(context, 'test/sales/features')\n",
    "print(X_train.shape, X_test.shape)\n",
    "\n",
    "y_train = load_dataset(context, 'train/sales/target')\n",
    "y_test = load_dataset(context, 'test/sales/target')\n",
    "print(y_train.shape, y_test.shape)"
   ]
  },
  {
   "cell_type": "code",
   "execution_count": null,
   "id": "7ec46f46",
   "metadata": {},
   "outputs": [],
   "source": []
  },
  {
   "cell_type": "markdown",
   "id": "ee38f806",
   "metadata": {},
   "source": [
    "## 1.1 Feature Engineering Pipelines"
   ]
  },
  {
   "cell_type": "markdown",
   "id": "733f08d1",
   "metadata": {},
   "source": [
    "#### General Steps in the Feature Transformation are as follows\n",
    " - Outlier Treatment\n",
    " - Encoding of Categorical Columns\n",
    " - Missing Values Imputation\n",
    "     - There are no missing values to impute."
   ]
  },
  {
   "cell_type": "markdown",
   "id": "af1ebada",
   "metadata": {},
   "source": [
    "### 1.1.1 Outlier Treatment"
   ]
  },
  {
   "cell_type": "code",
   "execution_count": 8,
   "id": "ceb0a141",
   "metadata": {},
   "outputs": [
    {
     "data": {
      "text/html": [
       "<div>\n",
       "<style scoped>\n",
       "    .dataframe tbody tr th:only-of-type {\n",
       "        vertical-align: middle;\n",
       "    }\n",
       "\n",
       "    .dataframe tbody tr th {\n",
       "        vertical-align: top;\n",
       "    }\n",
       "\n",
       "    .dataframe thead tr th {\n",
       "        text-align: left;\n",
       "    }\n",
       "</style>\n",
       "<table border=\"1\" class=\"dataframe\">\n",
       "  <thead>\n",
       "    <tr>\n",
       "      <th></th>\n",
       "      <th colspan=\"6\" halign=\"left\">Data Shape:(4994411, 11)</th>\n",
       "    </tr>\n",
       "    <tr>\n",
       "      <th>feature</th>\n",
       "      <th>&lt; (mean-3*std)</th>\n",
       "      <th>&gt; (mean+3*std)</th>\n",
       "      <th>&lt; (1stQ - 1.5 * IQR)</th>\n",
       "      <th>&gt; (3rdQ + 1.5 * IQR)</th>\n",
       "      <th>-inf</th>\n",
       "      <th>+inf</th>\n",
       "    </tr>\n",
       "  </thead>\n",
       "  <tbody>\n",
       "    <tr>\n",
       "      <th>sales_units_value</th>\n",
       "      <td>0</td>\n",
       "      <td>49756</td>\n",
       "      <td>0</td>\n",
       "      <td>588579</td>\n",
       "      <td>0</td>\n",
       "      <td>0</td>\n",
       "    </tr>\n",
       "    <tr>\n",
       "      <th>sales_lbs_value</th>\n",
       "      <td>0</td>\n",
       "      <td>48721</td>\n",
       "      <td>0</td>\n",
       "      <td>695342</td>\n",
       "      <td>0</td>\n",
       "      <td>0</td>\n",
       "    </tr>\n",
       "    <tr>\n",
       "      <th>sales_year</th>\n",
       "      <td>0</td>\n",
       "      <td>0</td>\n",
       "      <td>462908</td>\n",
       "      <td>0</td>\n",
       "      <td>0</td>\n",
       "      <td>0</td>\n",
       "    </tr>\n",
       "    <tr>\n",
       "      <th>total_post</th>\n",
       "      <td>0</td>\n",
       "      <td>104453</td>\n",
       "      <td>0</td>\n",
       "      <td>307283</td>\n",
       "      <td>0</td>\n",
       "      <td>0</td>\n",
       "    </tr>\n",
       "    <tr>\n",
       "      <th>search_volume</th>\n",
       "      <td>0</td>\n",
       "      <td>57879</td>\n",
       "      <td>0</td>\n",
       "      <td>60317</td>\n",
       "      <td>0</td>\n",
       "      <td>0</td>\n",
       "    </tr>\n",
       "  </tbody>\n",
       "</table>\n",
       "</div>"
      ],
      "text/plain": [
       "                  Data Shape:(4994411, 11)                 \\\n",
       "feature                     < (mean-3*std) > (mean+3*std)   \n",
       "sales_units_value                        0          49756   \n",
       "sales_lbs_value                          0          48721   \n",
       "sales_year                               0              0   \n",
       "total_post                               0         104453   \n",
       "search_volume                            0          57879   \n",
       "\n",
       "                                                                       \n",
       "feature           < (1stQ - 1.5 * IQR) > (3rdQ + 1.5 * IQR) -inf +inf  \n",
       "sales_units_value                    0               588579    0    0  \n",
       "sales_lbs_value                      0               695342    0    0  \n",
       "sales_year                      462908                    0    0    0  \n",
       "total_post                           0               307283    0    0  \n",
       "search_volume                        0                60317    0    0  "
      ]
     },
     "execution_count": 8,
     "metadata": {},
     "output_type": "execute_result"
    }
   ],
   "source": [
    "eda.get_outliers(X_train)"
   ]
  },
  {
   "cell_type": "code",
   "execution_count": 53,
   "id": "e057c0c1",
   "metadata": {},
   "outputs": [],
   "source": [
    "outlier_transform = Outlier()\n",
    "X_train = outlier_transform.fit_transform(X_train,\n",
    "                                          cols=['sales_units_value', 'sales_lbs_value', 'total_post', 'search_volume'])"
   ]
  },
  {
   "cell_type": "code",
   "execution_count": 10,
   "id": "d1ede073",
   "metadata": {},
   "outputs": [
    {
     "data": {
      "text/html": [
       "<div>\n",
       "<style scoped>\n",
       "    .dataframe tbody tr th:only-of-type {\n",
       "        vertical-align: middle;\n",
       "    }\n",
       "\n",
       "    .dataframe tbody tr th {\n",
       "        vertical-align: top;\n",
       "    }\n",
       "\n",
       "    .dataframe thead tr th {\n",
       "        text-align: left;\n",
       "    }\n",
       "</style>\n",
       "<table border=\"1\" class=\"dataframe\">\n",
       "  <thead>\n",
       "    <tr>\n",
       "      <th></th>\n",
       "      <th colspan=\"6\" halign=\"left\">Data Shape:(4994411, 11)</th>\n",
       "    </tr>\n",
       "    <tr>\n",
       "      <th>feature</th>\n",
       "      <th>&lt; (mean-3*std)</th>\n",
       "      <th>&gt; (mean+3*std)</th>\n",
       "      <th>&lt; (1stQ - 1.5 * IQR)</th>\n",
       "      <th>&gt; (3rdQ + 1.5 * IQR)</th>\n",
       "      <th>-inf</th>\n",
       "      <th>+inf</th>\n",
       "    </tr>\n",
       "  </thead>\n",
       "  <tbody>\n",
       "    <tr>\n",
       "      <th>sales_units_value</th>\n",
       "      <td>0</td>\n",
       "      <td>134564</td>\n",
       "      <td>0</td>\n",
       "      <td>588579</td>\n",
       "      <td>0</td>\n",
       "      <td>0</td>\n",
       "    </tr>\n",
       "    <tr>\n",
       "      <th>sales_lbs_value</th>\n",
       "      <td>0</td>\n",
       "      <td>120167</td>\n",
       "      <td>0</td>\n",
       "      <td>695342</td>\n",
       "      <td>0</td>\n",
       "      <td>0</td>\n",
       "    </tr>\n",
       "    <tr>\n",
       "      <th>sales_year</th>\n",
       "      <td>0</td>\n",
       "      <td>0</td>\n",
       "      <td>462908</td>\n",
       "      <td>0</td>\n",
       "      <td>0</td>\n",
       "      <td>0</td>\n",
       "    </tr>\n",
       "    <tr>\n",
       "      <th>total_post</th>\n",
       "      <td>0</td>\n",
       "      <td>104551</td>\n",
       "      <td>0</td>\n",
       "      <td>307283</td>\n",
       "      <td>0</td>\n",
       "      <td>0</td>\n",
       "    </tr>\n",
       "    <tr>\n",
       "      <th>search_volume</th>\n",
       "      <td>0</td>\n",
       "      <td>69296</td>\n",
       "      <td>0</td>\n",
       "      <td>60317</td>\n",
       "      <td>0</td>\n",
       "      <td>0</td>\n",
       "    </tr>\n",
       "  </tbody>\n",
       "</table>\n",
       "</div>"
      ],
      "text/plain": [
       "                  Data Shape:(4994411, 11)                 \\\n",
       "feature                     < (mean-3*std) > (mean+3*std)   \n",
       "sales_units_value                        0         134564   \n",
       "sales_lbs_value                          0         120167   \n",
       "sales_year                               0              0   \n",
       "total_post                               0         104551   \n",
       "search_volume                            0          69296   \n",
       "\n",
       "                                                                       \n",
       "feature           < (1stQ - 1.5 * IQR) > (3rdQ + 1.5 * IQR) -inf +inf  \n",
       "sales_units_value                    0               588579    0    0  \n",
       "sales_lbs_value                      0               695342    0    0  \n",
       "sales_year                      462908                    0    0    0  \n",
       "total_post                           0               307283    0    0  \n",
       "search_volume                        0                60317    0    0  "
      ]
     },
     "execution_count": 10,
     "metadata": {},
     "output_type": "execute_result"
    }
   ],
   "source": [
    "eda.get_outliers(X_train)"
   ]
  },
  {
   "cell_type": "markdown",
   "id": "382af5f1",
   "metadata": {},
   "source": [
    "### 1.1.2 Encoding of Categorical Columns"
   ]
  },
  {
   "cell_type": "code",
   "execution_count": 54,
   "id": "ee29297e",
   "metadata": {},
   "outputs": [],
   "source": [
    "feature_transformer = make_column_transformer(\n",
    "    \n",
    "        #Too many levels\n",
    "        (TargetEncoder(return_df=False), ['theme']),\n",
    "    \n",
    "        #Sparse levels\n",
    "        (OneHotEncoder(sparse=False), ['vendor','platform']),\n",
    "    \n",
    "        #Scaling\n",
    "#         (MinMaxScaler(), ['sales_units_value','sales_lbs_value', 'total_post', 'search_volume', 'sales_week_no']),\n",
    "    \n",
    "        remainder='passthrough'\n",
    "    \n",
    ")"
   ]
  },
  {
   "cell_type": "code",
   "execution_count": 55,
   "id": "179d59a4",
   "metadata": {},
   "outputs": [],
   "source": [
    "X_train_transformed = get_dataframe(\n",
    "    feature_transformer.fit_transform(X_train, y_train),\n",
    "    get_feature_names_from_column_transformer(feature_transformer)\n",
    ")"
   ]
  },
  {
   "cell_type": "code",
   "execution_count": 13,
   "id": "e0924cc2",
   "metadata": {},
   "outputs": [],
   "source": [
    "# save the feature pipeline\n",
    "save_pipeline(feature_transformer, op.abspath(op.join(artifacts_folder, 'features.joblib')))\n",
    "\n",
    "#save the scaled version of X_train\n",
    "save_dataset(context, X_train_transformed, 'train/sales/transformed_features')"
   ]
  },
  {
   "cell_type": "markdown",
   "id": "746f9f21",
   "metadata": {},
   "source": [
    "## 1.2 Feature Analysis"
   ]
  },
  {
   "cell_type": "markdown",
   "id": "4d998e23",
   "metadata": {},
   "source": [
    "### 1.2.1 Univariate Analysis\n",
    "* Understanding each variable seperately."
   ]
  },
  {
   "cell_type": "code",
   "execution_count": null,
   "id": "ba98978e",
   "metadata": {},
   "outputs": [],
   "source": [
    "%%time\n",
    "out = eda.get_density_plots(X_train_transformed)\n",
    "# out"
   ]
  },
  {
   "cell_type": "markdown",
   "id": "e8943320",
   "metadata": {},
   "source": [
    "#### Creating a .html report containing \n",
    "* density plots"
   ]
  },
  {
   "cell_type": "code",
   "execution_count": null,
   "id": "61ac2e8d",
   "metadata": {},
   "outputs": [],
   "source": [
    "%%time\n",
    "reports.create_report({'univariate': out}, name='feature_analysis_univariate')"
   ]
  },
  {
   "cell_type": "markdown",
   "id": "d184bfa4",
   "metadata": {},
   "source": [
    "#### Creating a .html report containing \n",
    "* Summary Stats\n",
    "* distributions(density plot and percentile plots)\n",
    "* feature normality"
   ]
  },
  {
   "cell_type": "code",
   "execution_count": null,
   "id": "ae1822d0",
   "metadata": {},
   "outputs": [],
   "source": [
    "%%time\n",
    "reports.feature_analysis(X_train_transformed, './feature_analysis_report.html')"
   ]
  },
  {
   "cell_type": "code",
   "execution_count": null,
   "id": "3b103446",
   "metadata": {},
   "outputs": [],
   "source": []
  },
  {
   "cell_type": "markdown",
   "id": "1f9311cb",
   "metadata": {},
   "source": [
    "### 1.2.2 Bivariate Analysis\n",
    "* Understanding the mutual interaction between the features (Correlations b/w features)\n",
    "* Setting the threshold to 0.6 and removing all the highly correlated features."
   ]
  },
  {
   "cell_type": "code",
   "execution_count": 14,
   "id": "86cc51a1",
   "metadata": {},
   "outputs": [
    {
     "data": {
      "text/html": [
       "<div>\n",
       "<style scoped>\n",
       "    .dataframe tbody tr th:only-of-type {\n",
       "        vertical-align: middle;\n",
       "    }\n",
       "\n",
       "    .dataframe tbody tr th {\n",
       "        vertical-align: top;\n",
       "    }\n",
       "\n",
       "    .dataframe thead th {\n",
       "        text-align: right;\n",
       "    }\n",
       "</style>\n",
       "<table border=\"1\" class=\"dataframe\">\n",
       "  <thead>\n",
       "    <tr style=\"text-align: right;\">\n",
       "      <th></th>\n",
       "      <th>Variable 1</th>\n",
       "      <th>Variable 2</th>\n",
       "      <th>Corr Coef</th>\n",
       "      <th>Abs Corr Coef</th>\n",
       "    </tr>\n",
       "  </thead>\n",
       "  <tbody>\n",
       "    <tr>\n",
       "      <th>0</th>\n",
       "      <td>sales_month</td>\n",
       "      <td>sales_week_no</td>\n",
       "      <td>0.996062</td>\n",
       "      <td>0.996062</td>\n",
       "    </tr>\n",
       "    <tr>\n",
       "      <th>1</th>\n",
       "      <td>sales_month</td>\n",
       "      <td>sales_quarter</td>\n",
       "      <td>0.967506</td>\n",
       "      <td>0.967506</td>\n",
       "    </tr>\n",
       "    <tr>\n",
       "      <th>2</th>\n",
       "      <td>sales_quarter</td>\n",
       "      <td>sales_week_no</td>\n",
       "      <td>0.964193</td>\n",
       "      <td>0.964193</td>\n",
       "    </tr>\n",
       "    <tr>\n",
       "      <th>3</th>\n",
       "      <td>platform_google</td>\n",
       "      <td>search_volume</td>\n",
       "      <td>0.709206</td>\n",
       "      <td>0.709206</td>\n",
       "    </tr>\n",
       "  </tbody>\n",
       "</table>\n",
       "</div>"
      ],
      "text/plain": [
       "        Variable 1     Variable 2  Corr Coef  Abs Corr Coef\n",
       "0      sales_month  sales_week_no   0.996062       0.996062\n",
       "1      sales_month  sales_quarter   0.967506       0.967506\n",
       "2    sales_quarter  sales_week_no   0.964193       0.964193\n",
       "3  platform_google  search_volume   0.709206       0.709206"
      ]
     },
     "execution_count": 14,
     "metadata": {},
     "output_type": "execute_result"
    }
   ],
   "source": [
    "out = eda.get_correlation_table(X_train_transformed)\n",
    "out[out['Abs Corr Coef'] > 0.6]"
   ]
  },
  {
   "cell_type": "code",
   "execution_count": 56,
   "id": "d2245833",
   "metadata": {},
   "outputs": [],
   "source": [
    "curated_cols = list( \n",
    "    set(X_train_transformed.columns) - \n",
    "    set(['sales_month', 'sales_quarter', 'platform_google'])\n",
    ")\n",
    "X_train_transformed = X_train_transformed[curated_cols]"
   ]
  },
  {
   "cell_type": "code",
   "execution_count": 16,
   "id": "403f3aeb",
   "metadata": {},
   "outputs": [
    {
     "data": {
      "text/html": [
       "<div>\n",
       "<style scoped>\n",
       "    .dataframe tbody tr th:only-of-type {\n",
       "        vertical-align: middle;\n",
       "    }\n",
       "\n",
       "    .dataframe tbody tr th {\n",
       "        vertical-align: top;\n",
       "    }\n",
       "\n",
       "    .dataframe thead th {\n",
       "        text-align: right;\n",
       "    }\n",
       "</style>\n",
       "<table border=\"1\" class=\"dataframe\">\n",
       "  <thead>\n",
       "    <tr style=\"text-align: right;\">\n",
       "      <th></th>\n",
       "      <th>Variable 1</th>\n",
       "      <th>Variable 2</th>\n",
       "      <th>Corr Coef</th>\n",
       "      <th>Abs Corr Coef</th>\n",
       "    </tr>\n",
       "  </thead>\n",
       "  <tbody>\n",
       "  </tbody>\n",
       "</table>\n",
       "</div>"
      ],
      "text/plain": [
       "Empty DataFrame\n",
       "Columns: [Variable 1, Variable 2, Corr Coef, Abs Corr Coef]\n",
       "Index: []"
      ]
     },
     "execution_count": 16,
     "metadata": {},
     "output_type": "execute_result"
    }
   ],
   "source": [
    "out = eda.get_correlation_table(X_train_transformed)\n",
    "out[out['Abs Corr Coef'] > 0.6]"
   ]
  },
  {
   "cell_type": "markdown",
   "id": "13a3c868",
   "metadata": {},
   "source": [
    "# 3. Modelling"
   ]
  },
  {
   "cell_type": "markdown",
   "id": "57b7d73c",
   "metadata": {},
   "source": [
    "## 3.1 Linear Regressor"
   ]
  },
  {
   "cell_type": "markdown",
   "id": "b3bd1a92",
   "metadata": {},
   "source": [
    "### 3.1.1 Feature Selection\n",
    "* Done on the basis of VIF score and manual selection in an iterative process."
   ]
  },
  {
   "cell_type": "code",
   "execution_count": 17,
   "id": "e7889555",
   "metadata": {},
   "outputs": [
    {
     "data": {
      "text/html": [
       "<div>\n",
       "<style scoped>\n",
       "    .dataframe tbody tr th:only-of-type {\n",
       "        vertical-align: middle;\n",
       "    }\n",
       "\n",
       "    .dataframe tbody tr th {\n",
       "        vertical-align: top;\n",
       "    }\n",
       "\n",
       "    .dataframe thead th {\n",
       "        text-align: right;\n",
       "    }\n",
       "</style>\n",
       "<table border=\"1\" class=\"dataframe\">\n",
       "  <thead>\n",
       "    <tr style=\"text-align: right;\">\n",
       "      <th></th>\n",
       "      <th>variables</th>\n",
       "      <th>VIF</th>\n",
       "    </tr>\n",
       "  </thead>\n",
       "  <tbody>\n",
       "    <tr>\n",
       "      <th>0</th>\n",
       "      <td>theme</td>\n",
       "      <td>6.516775</td>\n",
       "    </tr>\n",
       "    <tr>\n",
       "      <th>1</th>\n",
       "      <td>sales_year</td>\n",
       "      <td>19.879829</td>\n",
       "    </tr>\n",
       "    <tr>\n",
       "      <th>2</th>\n",
       "      <td>search_volume</td>\n",
       "      <td>4.188514</td>\n",
       "    </tr>\n",
       "    <tr>\n",
       "      <th>3</th>\n",
       "      <td>vendor_Private Label</td>\n",
       "      <td>1.142252</td>\n",
       "    </tr>\n",
       "    <tr>\n",
       "      <th>4</th>\n",
       "      <td>total_post</td>\n",
       "      <td>3.076764</td>\n",
       "    </tr>\n",
       "    <tr>\n",
       "      <th>5</th>\n",
       "      <td>vendor_D</td>\n",
       "      <td>1.086785</td>\n",
       "    </tr>\n",
       "    <tr>\n",
       "      <th>6</th>\n",
       "      <td>platform_amazon</td>\n",
       "      <td>2.428934</td>\n",
       "    </tr>\n",
       "    <tr>\n",
       "      <th>7</th>\n",
       "      <td>vendor_B</td>\n",
       "      <td>1.121030</td>\n",
       "    </tr>\n",
       "    <tr>\n",
       "      <th>8</th>\n",
       "      <td>sales_lbs_value</td>\n",
       "      <td>1.396071</td>\n",
       "    </tr>\n",
       "    <tr>\n",
       "      <th>9</th>\n",
       "      <td>sales_units_value</td>\n",
       "      <td>1.530015</td>\n",
       "    </tr>\n",
       "    <tr>\n",
       "      <th>10</th>\n",
       "      <td>platform_walmart</td>\n",
       "      <td>2.662887</td>\n",
       "    </tr>\n",
       "    <tr>\n",
       "      <th>11</th>\n",
       "      <td>platform_chewy</td>\n",
       "      <td>2.477045</td>\n",
       "    </tr>\n",
       "    <tr>\n",
       "      <th>12</th>\n",
       "      <td>vendor_A</td>\n",
       "      <td>1.198760</td>\n",
       "    </tr>\n",
       "    <tr>\n",
       "      <th>13</th>\n",
       "      <td>vendor_F</td>\n",
       "      <td>1.131878</td>\n",
       "    </tr>\n",
       "    <tr>\n",
       "      <th>14</th>\n",
       "      <td>sales_week_no</td>\n",
       "      <td>4.125425</td>\n",
       "    </tr>\n",
       "    <tr>\n",
       "      <th>15</th>\n",
       "      <td>vendor_H</td>\n",
       "      <td>1.063719</td>\n",
       "    </tr>\n",
       "  </tbody>\n",
       "</table>\n",
       "</div>"
      ],
      "text/plain": [
       "               variables        VIF\n",
       "0                  theme   6.516775\n",
       "1             sales_year  19.879829\n",
       "2          search_volume   4.188514\n",
       "3   vendor_Private Label   1.142252\n",
       "4             total_post   3.076764\n",
       "5               vendor_D   1.086785\n",
       "6        platform_amazon   2.428934\n",
       "7               vendor_B   1.121030\n",
       "8        sales_lbs_value   1.396071\n",
       "9      sales_units_value   1.530015\n",
       "10      platform_walmart   2.662887\n",
       "11        platform_chewy   2.477045\n",
       "12              vendor_A   1.198760\n",
       "13              vendor_F   1.131878\n",
       "14         sales_week_no   4.125425\n",
       "15              vendor_H   1.063719"
      ]
     },
     "execution_count": 17,
     "metadata": {},
     "output_type": "execute_result"
    }
   ],
   "source": [
    "# To avoid the dummy variable trap, we exclude one feature from each of the onehotencoded features\n",
    "eda.calc_vif(X_train_transformed.drop('vendor_Others', axis=1))"
   ]
  },
  {
   "cell_type": "code",
   "execution_count": 18,
   "id": "18d18112",
   "metadata": {},
   "outputs": [],
   "source": [
    "# cols are selected through manual selection\n",
    "cols = ['sales_year']"
   ]
  },
  {
   "cell_type": "code",
   "execution_count": 19,
   "id": "89cd9439",
   "metadata": {},
   "outputs": [
    {
     "data": {
      "text/html": [
       "<div>\n",
       "<style scoped>\n",
       "    .dataframe tbody tr th:only-of-type {\n",
       "        vertical-align: middle;\n",
       "    }\n",
       "\n",
       "    .dataframe tbody tr th {\n",
       "        vertical-align: top;\n",
       "    }\n",
       "\n",
       "    .dataframe thead th {\n",
       "        text-align: right;\n",
       "    }\n",
       "</style>\n",
       "<table border=\"1\" class=\"dataframe\">\n",
       "  <thead>\n",
       "    <tr style=\"text-align: right;\">\n",
       "      <th></th>\n",
       "      <th>variables</th>\n",
       "      <th>VIF</th>\n",
       "    </tr>\n",
       "  </thead>\n",
       "  <tbody>\n",
       "    <tr>\n",
       "      <th>0</th>\n",
       "      <td>theme</td>\n",
       "      <td>3.862846</td>\n",
       "    </tr>\n",
       "    <tr>\n",
       "      <th>1</th>\n",
       "      <td>search_volume</td>\n",
       "      <td>2.847386</td>\n",
       "    </tr>\n",
       "    <tr>\n",
       "      <th>2</th>\n",
       "      <td>vendor_Private Label</td>\n",
       "      <td>1.141567</td>\n",
       "    </tr>\n",
       "    <tr>\n",
       "      <th>3</th>\n",
       "      <td>total_post</td>\n",
       "      <td>2.988258</td>\n",
       "    </tr>\n",
       "    <tr>\n",
       "      <th>4</th>\n",
       "      <td>vendor_D</td>\n",
       "      <td>1.086565</td>\n",
       "    </tr>\n",
       "    <tr>\n",
       "      <th>5</th>\n",
       "      <td>platform_amazon</td>\n",
       "      <td>1.817687</td>\n",
       "    </tr>\n",
       "    <tr>\n",
       "      <th>6</th>\n",
       "      <td>vendor_B</td>\n",
       "      <td>1.116708</td>\n",
       "    </tr>\n",
       "    <tr>\n",
       "      <th>7</th>\n",
       "      <td>sales_lbs_value</td>\n",
       "      <td>1.394258</td>\n",
       "    </tr>\n",
       "    <tr>\n",
       "      <th>8</th>\n",
       "      <td>sales_units_value</td>\n",
       "      <td>1.524941</td>\n",
       "    </tr>\n",
       "    <tr>\n",
       "      <th>9</th>\n",
       "      <td>platform_walmart</td>\n",
       "      <td>1.997411</td>\n",
       "    </tr>\n",
       "    <tr>\n",
       "      <th>10</th>\n",
       "      <td>platform_chewy</td>\n",
       "      <td>1.901196</td>\n",
       "    </tr>\n",
       "    <tr>\n",
       "      <th>11</th>\n",
       "      <td>vendor_A</td>\n",
       "      <td>1.198755</td>\n",
       "    </tr>\n",
       "    <tr>\n",
       "      <th>12</th>\n",
       "      <td>vendor_F</td>\n",
       "      <td>1.125122</td>\n",
       "    </tr>\n",
       "    <tr>\n",
       "      <th>13</th>\n",
       "      <td>sales_week_no</td>\n",
       "      <td>3.343739</td>\n",
       "    </tr>\n",
       "    <tr>\n",
       "      <th>14</th>\n",
       "      <td>vendor_H</td>\n",
       "      <td>1.053891</td>\n",
       "    </tr>\n",
       "  </tbody>\n",
       "</table>\n",
       "</div>"
      ],
      "text/plain": [
       "               variables       VIF\n",
       "0                  theme  3.862846\n",
       "1          search_volume  2.847386\n",
       "2   vendor_Private Label  1.141567\n",
       "3             total_post  2.988258\n",
       "4               vendor_D  1.086565\n",
       "5        platform_amazon  1.817687\n",
       "6               vendor_B  1.116708\n",
       "7        sales_lbs_value  1.394258\n",
       "8      sales_units_value  1.524941\n",
       "9       platform_walmart  1.997411\n",
       "10        platform_chewy  1.901196\n",
       "11              vendor_A  1.198755\n",
       "12              vendor_F  1.125122\n",
       "13         sales_week_no  3.343739\n",
       "14              vendor_H  1.053891"
      ]
     },
     "execution_count": 19,
     "metadata": {},
     "output_type": "execute_result"
    }
   ],
   "source": [
    "# cols are selected through manual selection\n",
    "cols = ['sales_year']\n",
    "eda.calc_vif(X_train_transformed.drop(cols, axis=1).drop('vendor_Others', axis=1))"
   ]
  },
  {
   "cell_type": "markdown",
   "id": "e40231b4",
   "metadata": {},
   "source": [
    "### 3.1.2 Data transformation"
   ]
  },
  {
   "cell_type": "code",
   "execution_count": 20,
   "id": "d35c7798",
   "metadata": {},
   "outputs": [],
   "source": [
    "def _custom_data_transform(df, cols2remove=None):\n",
    "    \"\"\"Transformation to drop some columns in the data\n",
    "    \n",
    "    Parameters\n",
    "    ----------\n",
    "        df - pd.DataFrame\n",
    "        cols2remove - columns to keep in the dataframe\n",
    "    \"\"\"\n",
    "    cols2remove = cols2remove or []\n",
    "    if len(cols2remove):\n",
    "        return (df\n",
    "                .drop(cols2remove, axis=1))\n",
    "    else:\n",
    "        return df"
   ]
  },
  {
   "cell_type": "markdown",
   "id": "16e52734",
   "metadata": {},
   "source": [
    "### 3.1.3 Model Training Pipeline (Linear Regression)"
   ]
  },
  {
   "cell_type": "code",
   "execution_count": 21,
   "id": "d5c7d15d",
   "metadata": {},
   "outputs": [
    {
     "data": {
      "text/plain": [
       "Pipeline(steps=[('outlier',\n",
       "                 <tigerml.core.preprocessing.outliers.Outlier object at 0x000002BC8008D430>),\n",
       "                ('',\n",
       "                 FunctionTransformer(func=<function _custom_data_transform at 0x000002BCD9F8FF70>,\n",
       "                                     kw_args={'cols2remove': ['sales_year']})),\n",
       "                ('estimator', SKLStatsmodelOLS())])"
      ]
     },
     "execution_count": 21,
     "metadata": {},
     "output_type": "execute_result"
    }
   ],
   "source": [
    "outlier_cols = ['sales_units_value', 'sales_lbs_value', 'total_post', 'search_volume']\n",
    "columns = list(X_train_transformed.columns)\n",
    "\n",
    "reg_ols_ppln = Pipeline([\n",
    "    ('outlier', Outlier()),\n",
    "    ('', FunctionTransformer(_custom_data_transform, kw_args={'cols2remove':cols})),\n",
    "    ('estimator', SKLStatsmodelOLS())\n",
    "])\n",
    "\n",
    "reg_ols_ppln.fit(X_train_transformed, y_train.values.ravel(), outlier__cols=outlier_cols)"
   ]
  },
  {
   "cell_type": "code",
   "execution_count": 22,
   "id": "fe0e3479",
   "metadata": {},
   "outputs": [
    {
     "data": {
      "text/html": [
       "<table class=\"simpletable\">\n",
       "<caption>OLS Regression Results</caption>\n",
       "<tr>\n",
       "  <th>Dep. Variable:</th>            <td>y</td>        <th>  R-squared:         </th>  <td>   0.713</td>  \n",
       "</tr>\n",
       "<tr>\n",
       "  <th>Model:</th>                   <td>OLS</td>       <th>  Adj. R-squared:    </th>  <td>   0.713</td>  \n",
       "</tr>\n",
       "<tr>\n",
       "  <th>Method:</th>             <td>Least Squares</td>  <th>  F-statistic:       </th>  <td>8.259e+05</td> \n",
       "</tr>\n",
       "<tr>\n",
       "  <th>Date:</th>             <td>Mon, 23 May 2022</td> <th>  Prob (F-statistic):</th>   <td>  0.00</td>   \n",
       "</tr>\n",
       "<tr>\n",
       "  <th>Time:</th>                 <td>09:35:48</td>     <th>  Log-Likelihood:    </th> <td>-5.6855e+07</td>\n",
       "</tr>\n",
       "<tr>\n",
       "  <th>No. Observations:</th>      <td>4994411</td>     <th>  AIC:               </th>  <td>1.137e+08</td> \n",
       "</tr>\n",
       "<tr>\n",
       "  <th>Df Residuals:</th>          <td>4994395</td>     <th>  BIC:               </th>  <td>1.137e+08</td> \n",
       "</tr>\n",
       "<tr>\n",
       "  <th>Df Model:</th>              <td>    15</td>      <th>                     </th>      <td> </td>     \n",
       "</tr>\n",
       "<tr>\n",
       "  <th>Covariance Type:</th>      <td>nonrobust</td>    <th>                     </th>      <td> </td>     \n",
       "</tr>\n",
       "</table>\n",
       "<table class=\"simpletable\">\n",
       "<tr>\n",
       "            <td></td>              <th>coef</th>     <th>std err</th>      <th>t</th>      <th>P>|t|</th>  <th>[0.025</th>    <th>0.975]</th>  \n",
       "</tr>\n",
       "<tr>\n",
       "  <th>intercept</th>            <td>-2423.9020</td> <td>   43.441</td> <td>  -55.798</td> <td> 0.000</td> <td>-2509.045</td> <td>-2338.759</td>\n",
       "</tr>\n",
       "<tr>\n",
       "  <th>vendor_Others</th>        <td> 1544.3648</td> <td>   21.114</td> <td>   73.146</td> <td> 0.000</td> <td> 1502.983</td> <td> 1585.747</td>\n",
       "</tr>\n",
       "<tr>\n",
       "  <th>theme</th>                <td>    0.0767</td> <td>    0.002</td> <td>   44.514</td> <td> 0.000</td> <td>    0.073</td> <td>    0.080</td>\n",
       "</tr>\n",
       "<tr>\n",
       "  <th>search_volume</th>        <td>   -0.0117</td> <td>    0.001</td> <td>  -17.561</td> <td> 0.000</td> <td>   -0.013</td> <td>   -0.010</td>\n",
       "</tr>\n",
       "<tr>\n",
       "  <th>vendor_Private Label</th> <td>-3854.7402</td> <td>   33.625</td> <td> -114.638</td> <td> 0.000</td> <td>-3920.645</td> <td>-3788.836</td>\n",
       "</tr>\n",
       "<tr>\n",
       "  <th>total_post</th>           <td>    0.0629</td> <td>    0.006</td> <td>   10.391</td> <td> 0.000</td> <td>    0.051</td> <td>    0.075</td>\n",
       "</tr>\n",
       "<tr>\n",
       "  <th>vendor_D</th>             <td>  718.0479</td> <td>   49.191</td> <td>   14.597</td> <td> 0.000</td> <td>  621.635</td> <td>  814.461</td>\n",
       "</tr>\n",
       "<tr>\n",
       "  <th>platform_amazon</th>      <td> -121.1460</td> <td>   32.794</td> <td>   -3.694</td> <td> 0.000</td> <td> -185.421</td> <td>  -56.871</td>\n",
       "</tr>\n",
       "<tr>\n",
       "  <th>vendor_B</th>             <td>-1831.3890</td> <td>   42.522</td> <td>  -43.069</td> <td> 0.000</td> <td>-1914.731</td> <td>-1748.047</td>\n",
       "</tr>\n",
       "<tr>\n",
       "  <th>sales_lbs_value</th>      <td>    2.5764</td> <td>    0.001</td> <td> 2825.224</td> <td> 0.000</td> <td>    2.575</td> <td>    2.578</td>\n",
       "</tr>\n",
       "<tr>\n",
       "  <th>sales_units_value</th>    <td>    2.3456</td> <td>    0.004</td> <td>  648.493</td> <td> 0.000</td> <td>    2.338</td> <td>    2.353</td>\n",
       "</tr>\n",
       "<tr>\n",
       "  <th>platform_walmart</th>     <td> -484.5313</td> <td>   37.277</td> <td>  -12.998</td> <td> 0.000</td> <td> -557.594</td> <td> -411.469</td>\n",
       "</tr>\n",
       "<tr>\n",
       "  <th>platform_chewy</th>       <td> -319.6548</td> <td>   36.750</td> <td>   -8.698</td> <td> 0.000</td> <td> -391.684</td> <td> -247.626</td>\n",
       "</tr>\n",
       "<tr>\n",
       "  <th>vendor_A</th>             <td> -106.0026</td> <td>   32.461</td> <td>   -3.266</td> <td> 0.001</td> <td> -169.625</td> <td>  -42.381</td>\n",
       "</tr>\n",
       "<tr>\n",
       "  <th>vendor_F</th>             <td> 2703.0429</td> <td>   38.123</td> <td>   70.903</td> <td> 0.000</td> <td> 2628.323</td> <td> 2777.762</td>\n",
       "</tr>\n",
       "<tr>\n",
       "  <th>sales_week_no</th>        <td>    2.4595</td> <td>    0.679</td> <td>    3.623</td> <td> 0.000</td> <td>    1.129</td> <td>    3.790</td>\n",
       "</tr>\n",
       "<tr>\n",
       "  <th>vendor_H</th>             <td>-1597.2257</td> <td>   97.441</td> <td>  -16.392</td> <td> 0.000</td> <td>-1788.207</td> <td>-1406.244</td>\n",
       "</tr>\n",
       "</table>\n",
       "<table class=\"simpletable\">\n",
       "<tr>\n",
       "  <th>Omnibus:</th>       <td>9100518.647</td> <th>  Durbin-Watson:     </th>    <td>   2.000</td>    \n",
       "</tr>\n",
       "<tr>\n",
       "  <th>Prob(Omnibus):</th>   <td> 0.000</td>    <th>  Jarque-Bera (JB):  </th> <td>25882056885.777</td>\n",
       "</tr>\n",
       "<tr>\n",
       "  <th>Skew:</th>            <td>13.262</td>    <th>  Prob(JB):          </th>    <td>    0.00</td>    \n",
       "</tr>\n",
       "<tr>\n",
       "  <th>Kurtosis:</th>        <td>354.667</td>   <th>  Cond. No.          </th>    <td>8.59e+16</td>    \n",
       "</tr>\n",
       "</table><br/><br/>Warnings:<br/>[1] Standard Errors assume that the covariance matrix of the errors is correctly specified.<br/>[2] The smallest eigenvalue is 6.4e-19. This might indicate that there are<br/>strong multicollinearity problems or that the design matrix is singular."
      ],
      "text/plain": [
       "<class 'statsmodels.iolib.summary.Summary'>\n",
       "\"\"\"\n",
       "                            OLS Regression Results                            \n",
       "==============================================================================\n",
       "Dep. Variable:                      y   R-squared:                       0.713\n",
       "Model:                            OLS   Adj. R-squared:                  0.713\n",
       "Method:                 Least Squares   F-statistic:                 8.259e+05\n",
       "Date:                Mon, 23 May 2022   Prob (F-statistic):               0.00\n",
       "Time:                        09:35:48   Log-Likelihood:            -5.6855e+07\n",
       "No. Observations:             4994411   AIC:                         1.137e+08\n",
       "Df Residuals:                 4994395   BIC:                         1.137e+08\n",
       "Df Model:                          15                                         \n",
       "Covariance Type:            nonrobust                                         \n",
       "========================================================================================\n",
       "                           coef    std err          t      P>|t|      [0.025      0.975]\n",
       "----------------------------------------------------------------------------------------\n",
       "intercept            -2423.9020     43.441    -55.798      0.000   -2509.045   -2338.759\n",
       "vendor_Others         1544.3648     21.114     73.146      0.000    1502.983    1585.747\n",
       "theme                    0.0767      0.002     44.514      0.000       0.073       0.080\n",
       "search_volume           -0.0117      0.001    -17.561      0.000      -0.013      -0.010\n",
       "vendor_Private Label -3854.7402     33.625   -114.638      0.000   -3920.645   -3788.836\n",
       "total_post               0.0629      0.006     10.391      0.000       0.051       0.075\n",
       "vendor_D               718.0479     49.191     14.597      0.000     621.635     814.461\n",
       "platform_amazon       -121.1460     32.794     -3.694      0.000    -185.421     -56.871\n",
       "vendor_B             -1831.3890     42.522    -43.069      0.000   -1914.731   -1748.047\n",
       "sales_lbs_value          2.5764      0.001   2825.224      0.000       2.575       2.578\n",
       "sales_units_value        2.3456      0.004    648.493      0.000       2.338       2.353\n",
       "platform_walmart      -484.5313     37.277    -12.998      0.000    -557.594    -411.469\n",
       "platform_chewy        -319.6548     36.750     -8.698      0.000    -391.684    -247.626\n",
       "vendor_A              -106.0026     32.461     -3.266      0.001    -169.625     -42.381\n",
       "vendor_F              2703.0429     38.123     70.903      0.000    2628.323    2777.762\n",
       "sales_week_no            2.4595      0.679      3.623      0.000       1.129       3.790\n",
       "vendor_H             -1597.2257     97.441    -16.392      0.000   -1788.207   -1406.244\n",
       "==============================================================================\n",
       "Omnibus:                  9100518.647   Durbin-Watson:                   2.000\n",
       "Prob(Omnibus):                  0.000   Jarque-Bera (JB):      25882056885.777\n",
       "Skew:                          13.262   Prob(JB):                         0.00\n",
       "Kurtosis:                     354.667   Cond. No.                     8.59e+16\n",
       "==============================================================================\n",
       "\n",
       "Warnings:\n",
       "[1] Standard Errors assume that the covariance matrix of the errors is correctly specified.\n",
       "[2] The smallest eigenvalue is 6.4e-19. This might indicate that there are\n",
       "strong multicollinearity problems or that the design matrix is singular.\n",
       "\"\"\""
      ]
     },
     "execution_count": 22,
     "metadata": {},
     "output_type": "execute_result"
    }
   ],
   "source": [
    "reg_ols_ppln['estimator'].summary()"
   ]
  },
  {
   "cell_type": "code",
   "execution_count": 57,
   "id": "46d8d3bc",
   "metadata": {},
   "outputs": [],
   "source": [
    "X_test_transformed = get_dataframe(\n",
    "    feature_transformer.transform(X_test),\n",
    "    get_feature_names_from_column_transformer(feature_transformer)\n",
    ")\n",
    "X_test_transformed = X_test_transformed[curated_cols]"
   ]
  },
  {
   "cell_type": "markdown",
   "id": "362d44bb",
   "metadata": {},
   "source": [
    "#### Train R2 score"
   ]
  },
  {
   "cell_type": "code",
   "execution_count": 82,
   "id": "cb22d2c2",
   "metadata": {},
   "outputs": [
    {
     "data": {
      "text/plain": [
       "0.712681136683002"
      ]
     },
     "execution_count": 82,
     "metadata": {},
     "output_type": "execute_result"
    }
   ],
   "source": [
    "yhat_train_ols = reg_ols_ppln.predict(X_train_transformed)\n",
    "r2_score(y_train, yhat_train_ols)"
   ]
  },
  {
   "cell_type": "markdown",
   "id": "985a3416",
   "metadata": {},
   "source": [
    "#### Test R2 score"
   ]
  },
  {
   "cell_type": "code",
   "execution_count": 83,
   "id": "cf9fc761",
   "metadata": {},
   "outputs": [
    {
     "data": {
      "text/plain": [
       "0.7129558393451261"
      ]
     },
     "execution_count": 83,
     "metadata": {},
     "output_type": "execute_result"
    }
   ],
   "source": [
    "yhat_test_ols = reg_ols_ppln.predict(X_test_transformed)\n",
    "r2_score(y_test, yhat_test_ols)"
   ]
  },
  {
   "cell_type": "code",
   "execution_count": 26,
   "id": "69513835",
   "metadata": {},
   "outputs": [],
   "source": [
    "save_pipeline(reg_ols_ppln, op.abspath(op.join(artifacts_folder, 'reg_ols.joblib')))"
   ]
  },
  {
   "cell_type": "code",
   "execution_count": null,
   "id": "dade1f27",
   "metadata": {},
   "outputs": [],
   "source": [
    "# reg_ols_ppln = load_pipeline(op.abspath(op.join(artifacts_folder, 'reg_ols.joblib')))"
   ]
  },
  {
   "cell_type": "markdown",
   "id": "43a20f21",
   "metadata": {},
   "source": [
    "### 3.1.4 Model Evaluation Report (Linear Regression)"
   ]
  },
  {
   "cell_type": "code",
   "execution_count": 111,
   "id": "9db579ed",
   "metadata": {},
   "outputs": [
    {
     "name": "stdout",
     "output_type": "stream",
     "text": [
      "Wall time: 6.93 s\n"
     ]
    }
   ],
   "source": [
    "%%time\n",
    "reg_linear_report = RegressionReport(x_train=X_train_transformed, y_train=y_train, x_test=X_test_transformed, y_test=y_test, yhat_train=yhat_train_ols, yhat_test=yhat_test_ols)\n",
    "reg_linear_report.get_report(include_shap=False, file_path='EvalReports/regression_linear_model_report')"
   ]
  },
  {
   "cell_type": "code",
   "execution_count": null,
   "id": "7b20e4b0",
   "metadata": {},
   "outputs": [],
   "source": []
  },
  {
   "cell_type": "markdown",
   "id": "951b453d",
   "metadata": {},
   "source": [
    "## 3.2 XGBoost"
   ]
  },
  {
   "cell_type": "markdown",
   "id": "db1c72e6",
   "metadata": {},
   "source": [
    "### 3.2.1 Model Training Pipeline (XGBoost)"
   ]
  },
  {
   "cell_type": "markdown",
   "id": "f7d045ae",
   "metadata": {},
   "source": [
    "### Model-1"
   ]
  },
  {
   "cell_type": "code",
   "execution_count": 28,
   "id": "2c9bf8ed",
   "metadata": {},
   "outputs": [
    {
     "name": "stdout",
     "output_type": "stream",
     "text": [
      "Wall time: 7min 24s\n"
     ]
    },
    {
     "data": {
      "text/plain": [
       "Pipeline(steps=[('XGBoost',\n",
       "                 XGBRegressor(base_score=0.5, booster='gbtree',\n",
       "                              colsample_bylevel=1, colsample_bynode=1,\n",
       "                              colsample_bytree=1, gamma=0, gpu_id=-1,\n",
       "                              importance_type='gain',\n",
       "                              interaction_constraints='',\n",
       "                              learning_rate=0.300000012, max_delta_step=0,\n",
       "                              max_depth=6, min_child_weight=1, missing=nan,\n",
       "                              monotone_constraints='()', n_estimators=100,\n",
       "                              n_jobs=4, num_parallel_tree=1, random_state=0,\n",
       "                              reg_alpha=0, reg_lambda=1, scale_pos_weight=1,\n",
       "                              subsample=1, tree_method='approx',\n",
       "                              validate_parameters=1, verbosity=None))])"
      ]
     },
     "execution_count": 28,
     "metadata": {},
     "output_type": "execute_result"
    }
   ],
   "source": [
    "%%time\n",
    "xgb_ppln_init = Pipeline([\n",
    "    ('XGBoost', XGBRegressor(tree_method='approx', n_jobs=4))\n",
    "])\n",
    "xgb_ppln_init.fit(X_train_transformed, y_train.values.ravel())"
   ]
  },
  {
   "cell_type": "markdown",
   "id": "10e1c270",
   "metadata": {},
   "source": [
    "#### Train R2 score"
   ]
  },
  {
   "cell_type": "code",
   "execution_count": 84,
   "id": "f132cbba",
   "metadata": {},
   "outputs": [
    {
     "data": {
      "text/plain": [
       "0.8958516920748202"
      ]
     },
     "execution_count": 84,
     "metadata": {},
     "output_type": "execute_result"
    }
   ],
   "source": [
    "yhat_train_xgb = xgb_ppln_init.predict(X_train_transformed)\n",
    "r2_score(y_train, yhat_train_xgb)"
   ]
  },
  {
   "cell_type": "markdown",
   "id": "726cceea",
   "metadata": {},
   "source": [
    "#### Test R2 score"
   ]
  },
  {
   "cell_type": "code",
   "execution_count": 85,
   "id": "98eb9e40",
   "metadata": {},
   "outputs": [
    {
     "data": {
      "text/plain": [
       "0.8897438929100367"
      ]
     },
     "execution_count": 85,
     "metadata": {},
     "output_type": "execute_result"
    }
   ],
   "source": [
    "yhat_test_xgb = xgb_ppln_init.predict(X_test_transformed)\n",
    "r2_score(y_test, yhat_test_xgb)"
   ]
  },
  {
   "cell_type": "code",
   "execution_count": null,
   "id": "1c883e4e",
   "metadata": {},
   "outputs": [],
   "source": []
  },
  {
   "cell_type": "markdown",
   "id": "a069bf2c",
   "metadata": {},
   "source": [
    "### Model-2"
   ]
  },
  {
   "cell_type": "code",
   "execution_count": 91,
   "id": "e7eb4213",
   "metadata": {},
   "outputs": [
    {
     "name": "stdout",
     "output_type": "stream",
     "text": [
      "Wall time: 6min\n"
     ]
    },
    {
     "data": {
      "text/plain": [
       "Pipeline(steps=[('XGBoost',\n",
       "                 XGBRegressor(base_score=0.5, booster='gbtree',\n",
       "                              colsample_bylevel=1, colsample_bynode=1,\n",
       "                              colsample_bytree=1, gamma=0, gpu_id=-1,\n",
       "                              importance_type='gain',\n",
       "                              interaction_constraints='',\n",
       "                              learning_rate=0.300000012, max_delta_step=0,\n",
       "                              max_depth=6, min_child_weight=1, missing=nan,\n",
       "                              monotone_constraints='()', n_estimators=100,\n",
       "                              n_jobs=4, num_parallel_tree=1, random_state=0,\n",
       "                              reg_alpha=0, reg_lambda=1, scale_pos_weight=1,\n",
       "                              subsample=1, tree_method='exact',\n",
       "                              validate_parameters=1, verbosity=None))])"
      ]
     },
     "execution_count": 91,
     "metadata": {},
     "output_type": "execute_result"
    }
   ],
   "source": [
    "%%time\n",
    "xgb_ppln_init = Pipeline([\n",
    "    ('XGBoost', XGBRegressor(tree_method='exact', n_jobs=4))\n",
    "])\n",
    "xgb_ppln_init.fit(X_train_transformed, y_train.values.ravel())"
   ]
  },
  {
   "cell_type": "markdown",
   "id": "b54ba12c",
   "metadata": {},
   "source": [
    "#### Train R2 score"
   ]
  },
  {
   "cell_type": "code",
   "execution_count": 92,
   "id": "5beefcdc",
   "metadata": {},
   "outputs": [
    {
     "data": {
      "text/plain": [
       "0.9166466513208926"
      ]
     },
     "execution_count": 92,
     "metadata": {},
     "output_type": "execute_result"
    }
   ],
   "source": [
    "yhat_train_xgb = xgb_ppln_init.predict(X_train_transformed)\n",
    "r2_score(y_train, yhat_train_xgb)"
   ]
  },
  {
   "cell_type": "markdown",
   "id": "98641eb0",
   "metadata": {},
   "source": [
    "#### Test R2 score"
   ]
  },
  {
   "cell_type": "code",
   "execution_count": 93,
   "id": "ac2e87f7",
   "metadata": {},
   "outputs": [
    {
     "data": {
      "text/plain": [
       "0.911431576787131"
      ]
     },
     "execution_count": 93,
     "metadata": {},
     "output_type": "execute_result"
    }
   ],
   "source": [
    "yhat_test_xgb = xgb_ppln_init.predict(X_test_transformed)\n",
    "r2_score(y_test, yhat_test_xgb)"
   ]
  },
  {
   "cell_type": "code",
   "execution_count": null,
   "id": "fcd8f04f",
   "metadata": {},
   "outputs": [],
   "source": []
  },
  {
   "cell_type": "markdown",
   "id": "4a46fbdd",
   "metadata": {},
   "source": [
    "### Model-3"
   ]
  },
  {
   "cell_type": "code",
   "execution_count": 94,
   "id": "0465d14b",
   "metadata": {},
   "outputs": [
    {
     "name": "stdout",
     "output_type": "stream",
     "text": [
      "Wall time: 11min 7s\n"
     ]
    },
    {
     "data": {
      "text/plain": [
       "Pipeline(steps=[('XGBoost',\n",
       "                 XGBRegressor(base_score=0.5, booster='gbtree',\n",
       "                              colsample_bylevel=1, colsample_bynode=1,\n",
       "                              colsample_bytree=1, gamma=0, gpu_id=-1,\n",
       "                              importance_type='gain',\n",
       "                              interaction_constraints='',\n",
       "                              learning_rate=0.300000012, max_delta_step=0,\n",
       "                              max_depth=10, min_child_weight=1, missing=nan,\n",
       "                              monotone_constraints='()', n_estimators=100,\n",
       "                              n_jobs=4, num_parallel_tree=1, random_state=0,\n",
       "                              reg_alpha=0, reg_lambda=1, scale_pos_weight=1,\n",
       "                              subsample=1, tree_method='exact',\n",
       "                              validate_parameters=1, verbosity=None))])"
      ]
     },
     "execution_count": 94,
     "metadata": {},
     "output_type": "execute_result"
    }
   ],
   "source": [
    "%%time\n",
    "xgb_ppln_init = Pipeline([\n",
    "    ('XGBoost', XGBRegressor(tree_method='exact', max_depth=10, n_jobs=4))\n",
    "])\n",
    "xgb_ppln_init.fit(X_train_transformed, y_train.values.ravel())"
   ]
  },
  {
   "cell_type": "markdown",
   "id": "d35e1a18",
   "metadata": {},
   "source": [
    "#### Train R2 score"
   ]
  },
  {
   "cell_type": "code",
   "execution_count": 95,
   "id": "ca8e261f",
   "metadata": {},
   "outputs": [
    {
     "data": {
      "text/plain": [
       "0.9420353696117304"
      ]
     },
     "execution_count": 95,
     "metadata": {},
     "output_type": "execute_result"
    }
   ],
   "source": [
    "yhat_train_xgb = xgb_ppln_init.predict(X_train_transformed)\n",
    "r2_score(y_train, yhat_train_xgb)"
   ]
  },
  {
   "cell_type": "markdown",
   "id": "f1552dac",
   "metadata": {},
   "source": [
    "#### Test R2 score"
   ]
  },
  {
   "cell_type": "code",
   "execution_count": 96,
   "id": "a00b4679",
   "metadata": {},
   "outputs": [
    {
     "data": {
      "text/plain": [
       "0.9251769862722912"
      ]
     },
     "execution_count": 96,
     "metadata": {},
     "output_type": "execute_result"
    }
   ],
   "source": [
    "yhat_test_xgb = xgb_ppln_init.predict(X_test_transformed)\n",
    "r2_score(y_test, yhat_test_xgb)"
   ]
  },
  {
   "cell_type": "code",
   "execution_count": null,
   "id": "d50376b9",
   "metadata": {},
   "outputs": [],
   "source": []
  },
  {
   "cell_type": "markdown",
   "id": "37643bc9",
   "metadata": {},
   "source": [
    "### Model-4"
   ]
  },
  {
   "cell_type": "code",
   "execution_count": 97,
   "id": "29b01504",
   "metadata": {},
   "outputs": [
    {
     "name": "stdout",
     "output_type": "stream",
     "text": [
      "Wall time: 31min 5s\n"
     ]
    },
    {
     "data": {
      "text/plain": [
       "Pipeline(steps=[('XGBoost',\n",
       "                 XGBRegressor(base_score=0.5, booster='gbtree',\n",
       "                              colsample_bylevel=1, colsample_bynode=1,\n",
       "                              colsample_bytree=1, gamma=0, gpu_id=-1,\n",
       "                              importance_type='gain',\n",
       "                              interaction_constraints='',\n",
       "                              learning_rate=0.300000012, max_delta_step=0,\n",
       "                              max_depth=10, min_child_weight=1, missing=nan,\n",
       "                              monotone_constraints='()', n_estimators=300,\n",
       "                              n_jobs=4, num_parallel_tree=1, random_state=0,\n",
       "                              reg_alpha=0, reg_lambda=1, scale_pos_weight=1,\n",
       "                              subsample=1, tree_method='exact',\n",
       "                              validate_parameters=1, verbosity=None))])"
      ]
     },
     "execution_count": 97,
     "metadata": {},
     "output_type": "execute_result"
    }
   ],
   "source": [
    "%%time\n",
    "xgb_ppln_init = Pipeline([\n",
    "    ('XGBoost', XGBRegressor(tree_method='exact', max_depth=10, n_estimators=300, n_jobs=4))\n",
    "])\n",
    "xgb_ppln_init.fit(X_train_transformed, y_train.values.ravel())"
   ]
  },
  {
   "cell_type": "markdown",
   "id": "5103e4d9",
   "metadata": {},
   "source": [
    "#### Train R2 score"
   ]
  },
  {
   "cell_type": "code",
   "execution_count": 98,
   "id": "f281e330",
   "metadata": {},
   "outputs": [
    {
     "data": {
      "text/plain": [
       "0.949942307941203"
      ]
     },
     "execution_count": 98,
     "metadata": {},
     "output_type": "execute_result"
    }
   ],
   "source": [
    "yhat_train_xgb = xgb_ppln_init.predict(X_train_transformed)\n",
    "r2_score(y_train, yhat_train_xgb)"
   ]
  },
  {
   "cell_type": "markdown",
   "id": "3f3b372f",
   "metadata": {},
   "source": [
    "#### Test R2 score"
   ]
  },
  {
   "cell_type": "code",
   "execution_count": 99,
   "id": "55a77503",
   "metadata": {},
   "outputs": [
    {
     "data": {
      "text/plain": [
       "0.9279208759213714"
      ]
     },
     "execution_count": 99,
     "metadata": {},
     "output_type": "execute_result"
    }
   ],
   "source": [
    "yhat_test_xgb = xgb_ppln_init.predict(X_test_transformed)\n",
    "r2_score(y_test, yhat_test_xgb)"
   ]
  },
  {
   "cell_type": "code",
   "execution_count": null,
   "id": "ca6c6f8d",
   "metadata": {},
   "outputs": [],
   "source": []
  },
  {
   "cell_type": "code",
   "execution_count": 105,
   "id": "0120509c",
   "metadata": {},
   "outputs": [],
   "source": [
    "save_pipeline(xgb_ppln_init, op.abspath(op.join(artifacts_folder, 'xgb_init.joblib')))"
   ]
  },
  {
   "cell_type": "code",
   "execution_count": 106,
   "id": "c74291c9",
   "metadata": {},
   "outputs": [
    {
     "name": "stdout",
     "output_type": "stream",
     "text": [
      "Wall time: 5.36 s\n"
     ]
    }
   ],
   "source": [
    "%%time\n",
    "reg_linear_report = RegressionReport(x_train=X_train_transformed, y_train=y_train, x_test=X_test_transformed, y_test=y_test, yhat_train=yhat_train_xgb, yhat_test=yhat_test_xgb)\n",
    "reg_linear_report.get_report(include_shap=True, file_path='EvalReports/regression_xgb_init_shap_report')"
   ]
  },
  {
   "cell_type": "code",
   "execution_count": 16,
   "id": "9b3e7877",
   "metadata": {},
   "outputs": [],
   "source": [
    "# xgb_ppln_init = load_pipeline(op.abspath(op.join(artifacts_folder, 'xgb_init.joblib')))"
   ]
  },
  {
   "cell_type": "code",
   "execution_count": null,
   "id": "b8226c36",
   "metadata": {},
   "outputs": [],
   "source": []
  },
  {
   "cell_type": "markdown",
   "id": "814c20a5",
   "metadata": {},
   "source": [
    "## 3.3 Random Forest"
   ]
  },
  {
   "cell_type": "code",
   "execution_count": 71,
   "id": "cb205d47",
   "metadata": {},
   "outputs": [],
   "source": [
    "from sklearn.ensemble import RandomForestRegressor"
   ]
  },
  {
   "cell_type": "markdown",
   "id": "c76fc49b",
   "metadata": {},
   "source": [
    "### 3.3.1 Model-1"
   ]
  },
  {
   "cell_type": "code",
   "execution_count": 72,
   "id": "0a65b262",
   "metadata": {},
   "outputs": [
    {
     "name": "stdout",
     "output_type": "stream",
     "text": [
      "Wall time: 11min 59s\n"
     ]
    },
    {
     "data": {
      "text/plain": [
       "Pipeline(steps=[('rf', RandomForestRegressor(max_depth=7, n_jobs=4))])"
      ]
     },
     "execution_count": 72,
     "metadata": {},
     "output_type": "execute_result"
    }
   ],
   "source": [
    "%%time\n",
    "rf_ppln_init = Pipeline([\n",
    "    ('rf', RandomForestRegressor(max_depth=7, n_jobs=4))\n",
    "    \n",
    "])\n",
    "\n",
    "rf_ppln_init.fit(X_train_transformed, y_train.values.ravel())"
   ]
  },
  {
   "cell_type": "markdown",
   "id": "ec84cd51",
   "metadata": {},
   "source": [
    "#### Train R2 score"
   ]
  },
  {
   "cell_type": "code",
   "execution_count": 86,
   "id": "2b5cbeb2",
   "metadata": {},
   "outputs": [
    {
     "data": {
      "text/plain": [
       "0.8737390082952861"
      ]
     },
     "execution_count": 86,
     "metadata": {},
     "output_type": "execute_result"
    }
   ],
   "source": [
    "yhat_train_rf = rf_ppln_init.predict(X_train_transformed)\n",
    "r2_score(y_train, yhat_train_rf)"
   ]
  },
  {
   "cell_type": "markdown",
   "id": "6282ff4d",
   "metadata": {},
   "source": [
    "#### Test R2 score"
   ]
  },
  {
   "cell_type": "code",
   "execution_count": 87,
   "id": "1e1776e9",
   "metadata": {},
   "outputs": [
    {
     "data": {
      "text/plain": [
       "0.8744110519509574"
      ]
     },
     "execution_count": 87,
     "metadata": {},
     "output_type": "execute_result"
    }
   ],
   "source": [
    "yhat_test_rf = rf_ppln_init.predict(X_test_transformed)\n",
    "r2_score(y_test, yhat_test_rf)"
   ]
  },
  {
   "cell_type": "code",
   "execution_count": null,
   "id": "e483bfd4",
   "metadata": {},
   "outputs": [],
   "source": []
  },
  {
   "cell_type": "markdown",
   "id": "86b8189d",
   "metadata": {},
   "source": [
    "### 3.3.2 Model-2"
   ]
  },
  {
   "cell_type": "code",
   "execution_count": 100,
   "id": "48cafcbb",
   "metadata": {},
   "outputs": [
    {
     "name": "stdout",
     "output_type": "stream",
     "text": [
      "Wall time: 50min 31s\n"
     ]
    },
    {
     "data": {
      "text/plain": [
       "Pipeline(steps=[('rf',\n",
       "                 RandomForestRegressor(max_depth=10, n_estimators=300,\n",
       "                                       n_jobs=4))])"
      ]
     },
     "execution_count": 100,
     "metadata": {},
     "output_type": "execute_result"
    }
   ],
   "source": [
    "%%time\n",
    "rf_ppln_init = Pipeline([\n",
    "    ('rf', RandomForestRegressor(max_depth=10, n_estimators=300, n_jobs=4))\n",
    "    \n",
    "])\n",
    "\n",
    "rf_ppln_init.fit(X_train_transformed, y_train.values.ravel())"
   ]
  },
  {
   "cell_type": "markdown",
   "id": "26819135",
   "metadata": {},
   "source": [
    "#### Train R2 score"
   ]
  },
  {
   "cell_type": "code",
   "execution_count": 101,
   "id": "175f7af3",
   "metadata": {},
   "outputs": [
    {
     "data": {
      "text/plain": [
       "0.9036879800832648"
      ]
     },
     "execution_count": 101,
     "metadata": {},
     "output_type": "execute_result"
    }
   ],
   "source": [
    "yhat_train_rf = rf_ppln_init.predict(X_train_transformed)\n",
    "r2_score(y_train, yhat_train_rf)"
   ]
  },
  {
   "cell_type": "markdown",
   "id": "256dd35b",
   "metadata": {},
   "source": [
    "#### Test R2 score"
   ]
  },
  {
   "cell_type": "code",
   "execution_count": 102,
   "id": "2874c2ff",
   "metadata": {},
   "outputs": [
    {
     "data": {
      "text/plain": [
       "0.8998393422423504"
      ]
     },
     "execution_count": 102,
     "metadata": {},
     "output_type": "execute_result"
    }
   ],
   "source": [
    "yhat_test_rf = rf_ppln_init.predict(X_test_transformed)\n",
    "r2_score(y_test, yhat_test_rf)"
   ]
  },
  {
   "cell_type": "code",
   "execution_count": 103,
   "id": "a5977721",
   "metadata": {},
   "outputs": [],
   "source": [
    "save_pipeline(rf_ppln_init, op.abspath(op.join(artifacts_folder, 'rf_ppln_init.joblib')))"
   ]
  },
  {
   "cell_type": "code",
   "execution_count": 107,
   "id": "29f67843",
   "metadata": {},
   "outputs": [
    {
     "name": "stdout",
     "output_type": "stream",
     "text": [
      "Wall time: 5.3 s\n"
     ]
    }
   ],
   "source": [
    "%%time\n",
    "reg_linear_report = RegressionReport(x_train=X_train_transformed, y_train=y_train, x_test=X_test_transformed, y_test=y_test, yhat_train=yhat_train_rf, yhat_test=yhat_test_rf)\n",
    "reg_linear_report.get_report(include_shap=True, file_path='EvalReports/regression_rf_init_shap_report')"
   ]
  },
  {
   "cell_type": "code",
   "execution_count": null,
   "id": "b52c5fae",
   "metadata": {},
   "outputs": [],
   "source": [
    "# rf_ppln_init = load_pipeline(op.abspath(op.join(artifacts_folder, 'rf_ppln_init.joblib')))"
   ]
  },
  {
   "cell_type": "code",
   "execution_count": null,
   "id": "cb8487df",
   "metadata": {},
   "outputs": [],
   "source": []
  },
  {
   "cell_type": "markdown",
   "id": "b93831d1",
   "metadata": {},
   "source": [
    "## 4. Model Comparison"
   ]
  },
  {
   "cell_type": "code",
   "execution_count": 109,
   "id": "3ec8e3f0",
   "metadata": {},
   "outputs": [
    {
     "name": "stderr",
     "output_type": "stream",
     "text": [
      "`rcond` parameter will change to the default of machine precision times ``max(M, N)`` where M and N are the input matrix dimensions.\n",
      "To use the future default and silence this warning we advise to pass `rcond=None`, to keep using the old, explicitly pass `rcond=-1`.\n"
     ]
    },
    {
     "name": "stdout",
     "output_type": "stream",
     "text": [
      "Wall time: 19.1 s\n"
     ]
    }
   ],
   "source": [
    "%%time\n",
    "model_comparison_report = RegressionComparison(y=y_test, yhats={'Linear Regression': yhat_test_ols, 'XGBoost': yhat_test_xgb, 'Random Forest': yhat_test_rf})\n",
    "metrics = model_comparison_report.get_report(file_path='EvalReports/regression_comparison')"
   ]
  },
  {
   "cell_type": "code",
   "execution_count": 110,
   "id": "94de6322",
   "metadata": {},
   "outputs": [
    {
     "data": {
      "text/html": [
       "<div>\n",
       "<style scoped>\n",
       "    .dataframe tbody tr th:only-of-type {\n",
       "        vertical-align: middle;\n",
       "    }\n",
       "\n",
       "    .dataframe tbody tr th {\n",
       "        vertical-align: top;\n",
       "    }\n",
       "\n",
       "    .dataframe thead th {\n",
       "        text-align: right;\n",
       "    }\n",
       "</style>\n",
       "<table border=\"1\" class=\"dataframe\">\n",
       "  <thead>\n",
       "    <tr style=\"text-align: right;\">\n",
       "      <th>metric</th>\n",
       "      <th>MAPE</th>\n",
       "      <th>WMAPE</th>\n",
       "      <th>MAE</th>\n",
       "      <th>RMSE</th>\n",
       "      <th>R^2</th>\n",
       "    </tr>\n",
       "  </thead>\n",
       "  <tbody>\n",
       "    <tr>\n",
       "      <th>Linear Regression</th>\n",
       "      <td>20.4722</td>\n",
       "      <td>0.4726</td>\n",
       "      <td>6016.6827</td>\n",
       "      <td>21236.0083</td>\n",
       "      <td>0.7130</td>\n",
       "    </tr>\n",
       "    <tr>\n",
       "      <th>XGBoost</th>\n",
       "      <td>7.2635</td>\n",
       "      <td>0.1832</td>\n",
       "      <td>2331.8622</td>\n",
       "      <td>10641.5105</td>\n",
       "      <td>0.9279</td>\n",
       "    </tr>\n",
       "    <tr>\n",
       "      <th>Random Forest</th>\n",
       "      <td>8.5890</td>\n",
       "      <td>0.2678</td>\n",
       "      <td>3409.1509</td>\n",
       "      <td>12544.3197</td>\n",
       "      <td>0.8998</td>\n",
       "    </tr>\n",
       "  </tbody>\n",
       "</table>\n",
       "</div>"
      ],
      "text/plain": [
       "metric                MAPE   WMAPE        MAE        RMSE     R^2\n",
       "Linear Regression  20.4722  0.4726  6016.6827  21236.0083  0.7130\n",
       "XGBoost             7.2635  0.1832  2331.8622  10641.5105  0.9279\n",
       "Random Forest       8.5890  0.2678  3409.1509  12544.3197  0.8998"
      ]
     },
     "execution_count": 110,
     "metadata": {},
     "output_type": "execute_result"
    }
   ],
   "source": [
    "model_comparison_report.performance_metrics"
   ]
  },
  {
   "cell_type": "code",
   "execution_count": null,
   "id": "42290f78",
   "metadata": {},
   "outputs": [],
   "source": []
  },
  {
   "cell_type": "code",
   "execution_count": null,
   "id": "87c53efd",
   "metadata": {},
   "outputs": [],
   "source": []
  },
  {
   "cell_type": "code",
   "execution_count": 66,
   "id": "68263bb7",
   "metadata": {},
   "outputs": [],
   "source": [
    "# %%time\n",
    "# \n",
    "# xgb_ppln_2 = Pipeline([\n",
    "# #     ('',FunctionTransformer(_custom_data_transform, kw_args={'cols2remove':cols_2_remove})),\n",
    "#     ('XGBoost', XGBRegressor(tree_method='approx', n_estimators=300, n_jobs=4))\n",
    "# ])\n",
    "# eval_set = [(X_train_transformed, y_train.values.ravel()), \n",
    "#             (X_test_transformed, y_test.values.ravel())]\n",
    "# \n",
    "# xgb_ppln_2.fit(X_train_transformed, y_train.values.ravel(), XGBoost__eval_set=eval_set, XGBoost__eval_metric=r2_score)"
   ]
  },
  {
   "cell_type": "code",
   "execution_count": null,
   "id": "51deaaf2",
   "metadata": {},
   "outputs": [],
   "source": []
  },
  {
   "cell_type": "code",
   "execution_count": null,
   "id": "c9a7a19f",
   "metadata": {},
   "outputs": [],
   "source": []
  }
 ],
 "metadata": {
  "kernelspec": {
   "display_name": "Python 3",
   "language": "python",
   "name": "python3"
  },
  "language_info": {
   "codemirror_mode": {
    "name": "ipython",
    "version": 3
   },
   "file_extension": ".py",
   "mimetype": "text/x-python",
   "name": "python",
   "nbconvert_exporter": "python",
   "pygments_lexer": "ipython3",
   "version": "3.8.11"
  }
 },
 "nbformat": 4,
 "nbformat_minor": 5
}
